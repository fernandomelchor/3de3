{
 "cells": [
  {
   "cell_type": "code",
   "execution_count": 1,
   "metadata": {},
   "outputs": [],
   "source": [
    "import json"
   ]
  },
  {
   "cell_type": "code",
   "execution_count": 45,
   "metadata": {},
   "outputs": [],
   "source": [
    "json_load = json.load(open(\"json_completo_patrimonio.json\", \"rb\"))"
   ]
  },
  {
   "cell_type": "code",
   "execution_count": 46,
   "metadata": {},
   "outputs": [
    {
     "data": {
      "text/plain": [
       "dict_keys(['JUAN GUTIERREZ MARQUEZ_DD/MM/AAAA'])"
      ]
     },
     "execution_count": 46,
     "metadata": {},
     "output_type": "execute_result"
    }
   ],
   "source": [
    "json_load[0][\"persona\"].keys()"
   ]
  },
  {
   "cell_type": "code",
   "execution_count": 48,
   "metadata": {},
   "outputs": [],
   "source": [
    "# This could be recursive\n",
    "root_list = []\n",
    "for element in json_load:\n",
    "    element_dict = {}\n",
    "    for name_user in list(element[\"persona\"].keys()):\n",
    "        persona_dict = {}\n",
    "        for sec in list(element[\"persona\"][name_user].keys()):\n",
    "            if isinstance(element[\"persona\"][name_user][sec], str):\n",
    "                try:\n",
    "                    persona_dict[sec] = json.loads(element[\"persona\"][name_user][sec])\n",
    "                except:\n",
    "                    persona_dict[sec] = element[\"persona\"][name_user][sec]\n",
    "            elif isinstance(element[\"persona\"][name_user][sec], dict):\n",
    "                sub_dict = {}\n",
    "                for subkey in list(element[\"persona\"][name_user][sec].keys()):\n",
    "                    try:\n",
    "                        sub_dict[subkey] = json.loads(element[\"persona\"][name_user][sec][subkey])\n",
    "                    except:\n",
    "                        sub_dict[subkey] = element[\"persona\"][name_user][sec][subkey]\n",
    "                persona_dict[sec] = sub_dict\n",
    "    element_dict[\"persona\"] = {name_user: persona_dict}\n",
    "    root_list.append(element_dict)                "
   ]
  },
  {
   "cell_type": "code",
   "execution_count": 49,
   "metadata": {},
   "outputs": [],
   "source": [
    "json.dump(root_list, open(\"output_clean_patrimonio.json\", \"w\"))"
   ]
  },
  {
   "cell_type": "markdown",
   "metadata": {},
   "source": [
    "root_list"
   ]
  },
  {
   "cell_type": "code",
   "execution_count": 53,
   "metadata": {},
   "outputs": [
    {
     "name": "stdout",
     "output_type": "stream",
     "text": [
      "Collecting flatten_json\n",
      "  Downloading https://files.pythonhosted.org/packages/2f/43/6565f80b0319e41e31a4c628943212aa5e4044d160da7186426ce467cf27/flatten_json-0.1.6.tar.gz\n",
      "Building wheels for collected packages: flatten-json\n",
      "  Running setup.py bdist_wheel for flatten-json ... \u001b[?25ldone\n",
      "\u001b[?25h  Stored in directory: /home/ricardo/.cache/pip/wheels/98/7c/d5/398faa6ebb73f88759efd5ef246161f5f5757471a303142626\n",
      "Successfully built flatten-json\n",
      "Installing collected packages: flatten-json\n",
      "Successfully installed flatten-json-0.1.6\n"
     ]
    }
   ],
   "source": [
    "!pip3 install flatten_json"
   ]
  },
  {
   "cell_type": "code",
   "execution_count": 54,
   "metadata": {},
   "outputs": [],
   "source": [
    "import flatten_json"
   ]
  },
  {
   "cell_type": "code",
   "execution_count": 55,
   "metadata": {},
   "outputs": [],
   "source": [
    "patrimonio = json.load(open(\"output_clean_patrimonio.json\", \"r\"))"
   ]
  },
  {
   "cell_type": "code",
   "execution_count": 56,
   "metadata": {},
   "outputs": [],
   "source": [
    "ingresos = json.load(open(\"output_clean.json\", \"r\"))"
   ]
  },
  {
   "cell_type": "code",
   "execution_count": 59,
   "metadata": {},
   "outputs": [],
   "source": [
    "patrimonio_flatten = [flatten_json.flatten(pat) for pat in patrimonio]\n",
    "patrimonio_flatten = [flatten_json.flatten(pat) for pat in patrimonio]"
   ]
  },
  {
   "cell_type": "code",
   "execution_count": null,
   "metadata": {},
   "outputs": [],
   "source": []
  }
 ],
 "metadata": {
  "kernelspec": {
   "display_name": "Python 3",
   "language": "python",
   "name": "python3"
  },
  "language_info": {
   "codemirror_mode": {
    "name": "ipython",
    "version": 3
   },
   "file_extension": ".py",
   "mimetype": "text/x-python",
   "name": "python",
   "nbconvert_exporter": "python",
   "pygments_lexer": "ipython3",
   "version": "3.6.7"
  }
 },
 "nbformat": 4,
 "nbformat_minor": 2
}
