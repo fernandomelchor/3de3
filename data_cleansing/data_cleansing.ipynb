{
 "cells": [
  {
   "cell_type": "code",
   "execution_count": 1,
   "metadata": {},
   "outputs": [],
   "source": [
    "import json"
   ]
  },
  {
   "cell_type": "code",
   "execution_count": 32,
   "metadata": {},
   "outputs": [],
   "source": [
    "json_load = json.load(open(\"json_completo_ingresos.json\", \"rb\"))"
   ]
  },
  {
   "cell_type": "code",
   "execution_count": null,
   "metadata": {},
   "outputs": [],
   "source": []
  },
  {
   "cell_type": "code",
   "execution_count": 33,
   "metadata": {},
   "outputs": [
    {
     "data": {
      "text/plain": [
       "dict_keys(['César Arnulfo Cravioto Romero _2018-11-30'])"
      ]
     },
     "execution_count": 33,
     "metadata": {},
     "output_type": "execute_result"
    }
   ],
   "source": [
    "json_load[0][\"persona\"].keys()"
   ]
  },
  {
   "cell_type": "code",
   "execution_count": 36,
   "metadata": {},
   "outputs": [
    {
     "data": {
      "text/plain": [
       "dict_keys(['sec_1', 'sec_2', 'sec_3', 'sec_4', 'sec_5', 'sec_6'])"
      ]
     },
     "execution_count": 36,
     "metadata": {},
     "output_type": "execute_result"
    }
   ],
   "source": [
    "json_load[0][\"persona\"][\"César Arnulfo Cravioto Romero _2018-11-30\"].keys()"
   ]
  },
  {
   "cell_type": "code",
   "execution_count": null,
   "metadata": {},
   "outputs": [],
   "source": []
  },
  {
   "cell_type": "code",
   "execution_count": 28,
   "metadata": {},
   "outputs": [],
   "source": [
    "root_list = []\n",
    "for element in json_load:\n",
    "    element_dict = {}\n",
    "    for name_user in list(element[\"persona\"].keys()):\n",
    "        persona_dict = {}\n",
    "        for sec in list(element[\"persona\"][name_user].keys()):\n",
    "            if isinstance(element[\"persona\"][name_user][sec], str):\n",
    "                try:\n",
    "                    persona_dict[sec] = json.loads(element[\"persona\"][name_user][sec])\n",
    "                except:\n",
    "                    persona_dict[sec] = element[\"persona\"][name_user][sec]\n",
    "            elif isinstance(element[\"persona\"][name_user][sec], dict):\n",
    "                sub_dict = {}\n",
    "                for subkey in list(element[\"persona\"][name_user][sec].keys()):\n",
    "                    try:\n",
    "                        sub_dict[subkey] = json.loads(element[\"persona\"][name_user][sec][subkey])\n",
    "                    except:\n",
    "                        sub_dict[subkey] = element[\"persona\"][name_user][sec][subkey]\n",
    "                persona_dict[sec] = sub_dict\n",
    "    element_dict[\"persona\"] = {name_user: persona_dict}\n",
    "    root_list.append(element_dict)                \n",
    "                \n",
    "                    "
   ]
  },
  {
   "cell_type": "code",
   "execution_count": 44,
   "metadata": {},
   "outputs": [],
   "source": [
    "json.dump(root_list, open(\"output_clean.json\", \"w\"))"
   ]
  },
  {
   "cell_type": "markdown",
   "metadata": {},
   "source": []
  }
 ],
 "metadata": {
  "kernelspec": {
   "display_name": "Python 3",
   "language": "python",
   "name": "python3"
  },
  "language_info": {
   "codemirror_mode": {
    "name": "ipython",
    "version": 3
   },
   "file_extension": ".py",
   "mimetype": "text/x-python",
   "name": "python",
   "nbconvert_exporter": "python",
   "pygments_lexer": "ipython3",
   "version": "3.6.7"
  }
 },
 "nbformat": 4,
 "nbformat_minor": 2
}
